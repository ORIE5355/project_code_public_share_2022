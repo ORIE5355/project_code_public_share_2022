{
  "cells": [
    {
      "cell_type": "markdown",
      "id": "f298afcf",
      "metadata": {
        "colab_type": "text",
        "id": "view-in-github"
      },
      "source": [
        "<a href=\"https://colab.research.google.com/github/ORIE5355/project_code_public_share/blob/main/run_gym_headtohead_colab.ipynb\" target=\"_parent\"><img src=\"https://colab.research.google.com/assets/colab-badge.svg\" alt=\"Open In Colab\"/></a>"
      ]
    },
    {
      "cell_type": "code",
      "execution_count": null,
      "id": "1e30a1e2",
      "metadata": {
        "ExecuteTime": {
          "end_time": "2021-08-07T01:43:26.798549Z",
          "start_time": "2021-08-07T01:43:26.615639Z"
        },
        "id": "1e30a1e2"
      },
      "outputs": [],
      "source": [
        "import numpy as np \n",
        "import matplotlib.pyplot as plt\n",
        "import time\n",
        "from IPython import display"
      ]
    },
    {
      "cell_type": "code",
      "execution_count": null,
      "id": "c19f063f",
      "metadata": {},
      "outputs": [],
      "source": [
        "%load_ext autoreload\n",
        "%autoreload 2"
      ]
    },
    {
      "cell_type": "code",
      "execution_count": null,
      "id": "37488e3d",
      "metadata": {},
      "outputs": [],
      "source": [
        "# For colaboratory to have the proper packages installed\n",
        "!apt install xvfb\n",
        "!pip install pyvirtualdisplay\n",
        "!pip install cryptography"
      ]
    },
    {
      "cell_type": "code",
      "execution_count": null,
      "id": "043b507d",
      "metadata": {},
      "outputs": [],
      "source": [
        "from pyvirtualdisplay import Display\n",
        "d = Display(visible=0, size=(1400, 900))\n",
        "d.start()"
      ]
    },
    {
      "cell_type": "code",
      "execution_count": null,
      "id": "a1f77bde",
      "metadata": {},
      "outputs": [],
      "source": [
        "!git clone https://github.com/ORIE5355/project_code_public_share_2022.git\n",
        "%cd project_code_public_share"
      ]
    },
    {
      "cell_type": "code",
      "execution_count": null,
      "id": "6f282563",
      "metadata": {},
      "outputs": [],
      "source": [
        "!git pull origin main"
      ]
    },
    {
      "cell_type": "markdown",
      "id": "89b8f5dc",
      "metadata": {},
      "source": [
        "To use your agent on colab, after you pull the project code you can upload your own agent code under the agents/ directory in colaboratory, and then replace the agent name below to match your team name. "
      ]
    },
    {
      "cell_type": "code",
      "execution_count": null,
      "id": "1491d1af",
      "metadata": {
        "ExecuteTime": {
          "end_time": "2021-08-07T00:54:11.885238Z",
          "start_time": "2021-08-07T00:54:11.655533Z"
        },
        "id": "1491d1af"
      },
      "outputs": [],
      "source": [
        "import make_env"
      ]
    },
    {
      "cell_type": "code",
      "execution_count": null,
      "id": "2aae7650",
      "metadata": {},
      "outputs": [],
      "source": [
        "project_part = 1\n",
        "agentnames = ['dummy_fixed_prices', 'dummy_fixed_prices_adaptive']"
      ]
    },
    {
      "cell_type": "code",
      "execution_count": null,
      "id": "9d7889c4",
      "metadata": {
        "ExecuteTime": {
          "end_time": "2021-08-07T00:54:12.319787Z",
          "start_time": "2021-08-07T00:54:12.215172Z"
        },
        "id": "9d7889c4"
      },
      "outputs": [],
      "source": [
        "if project_part == 1:\n",
        "    env, agents = make_env.make_env_agents(agentnames = agentnames, project_part = project_part)\n",
        "    \n",
        "else:\n",
        "    env, agents = make_env.make_env_agents(agentnames = agentnames, project_part = project_part\n",
        "    , first_file = 'data/datafile1.csv', second_file='data/datafile2.csv')\n",
        "\n",
        "# you can replace the agentnames to match whatever agentfiles you create. \n",
        "# you can use the same agentnames for both agents"
      ]
    },
    {
      "cell_type": "code",
      "execution_count": null,
      "id": "050da6eb",
      "metadata": {
        "ExecuteTime": {
          "end_time": "2021-08-07T00:54:13.449610Z",
          "start_time": "2021-08-07T00:54:13.329182Z"
        },
        "id": "050da6eb"
      },
      "outputs": [],
      "source": [
        "T = 500"
      ]
    },
    {
      "cell_type": "code",
      "execution_count": null,
      "id": "fc21ca5a",
      "metadata": {
        "ExecuteTime": {
          "end_time": "2021-08-07T00:54:31.959674Z",
          "start_time": "2021-08-07T00:54:31.682972Z"
        },
        "colab": {
          "base_uri": "https://localhost:8080/",
          "height": 332
        },
        "id": "fc21ca5a",
        "outputId": "5fbf1364-5a0b-47f2-a083-653b0a0c4a96"
      },
      "outputs": [],
      "source": [
        "env.reset()\n",
        "customer_covariates, sale, profits = env.get_current_state_customer_to_send_agents()\n",
        "last_customer_covariates = customer_covariates\n",
        "\n",
        "fig, ax = plt.subplots(figsize=(20, 10))\n",
        "for t in range(0, T):\n",
        "    actions = [agent.action((customer_covariates, sale, profits)) for agent in agents]\n",
        "    customer_covariates, sale, profits = env.step(actions)\n",
        "    newplot = env.render(True)\n",
        "    if newplot:\n",
        "      display.clear_output(wait=True)\n",
        "      display.display(plt.gcf())\n",
        "    print('last customer covariate: ', last_customer_covariates)\n",
        "    print('last (item bought, agent bought from, prices): ', sale)\n",
        "    print('current_profit per agent: ', profits)\n",
        "    last_customer_covariates = customer_covariates\n",
        "plt.close()\n",
        "print(\"Cumulative buyer utility: {}\".format(env.cumulative_buyer_utility))"
      ]
    },
    {
      "cell_type": "code",
      "execution_count": null,
      "id": "cc88fcfb",
      "metadata": {},
      "outputs": [],
      "source": []
    }
  ],
  "metadata": {
    "colab": {
      "include_colab_link": true,
      "name": "run_gym_headtohead_googlecolab.ipynb",
      "provenance": []
    },
    "kernelspec": {
      "display_name": "Python 3.8.10 64-bit",
      "language": "python",
      "name": "python3"
    },
    "language_info": {
      "codemirror_mode": {
        "name": "ipython",
        "version": 3
      },
      "file_extension": ".py",
      "mimetype": "text/x-python",
      "name": "python",
      "nbconvert_exporter": "python",
      "pygments_lexer": "ipython3",
      "version": "3.8.10"
    },
    "varInspector": {
      "cols": {
        "lenName": 16,
        "lenType": 16,
        "lenVar": 40
      },
      "kernels_config": {
        "python": {
          "delete_cmd_postfix": "",
          "delete_cmd_prefix": "del ",
          "library": "var_list.py",
          "varRefreshCmd": "print(var_dic_list())"
        },
        "r": {
          "delete_cmd_postfix": ") ",
          "delete_cmd_prefix": "rm(",
          "library": "var_list.r",
          "varRefreshCmd": "cat(var_dic_list()) "
        }
      },
      "types_to_exclude": [
        "module",
        "function",
        "builtin_function_or_method",
        "instance",
        "_Feature"
      ],
      "window_display": false
    },
    "vscode": {
      "interpreter": {
        "hash": "916dbcbb3f70747c44a77c7bcd40155683ae19c65e1c03b4aa3499c5328201f1"
      }
    }
  },
  "nbformat": 4,
  "nbformat_minor": 5
}
