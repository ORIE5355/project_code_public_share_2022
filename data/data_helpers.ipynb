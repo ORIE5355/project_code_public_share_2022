{
 "cells": [
  {
   "cell_type": "code",
   "execution_count": 6,
   "metadata": {},
   "outputs": [],
   "source": [
    "import pandas as pd\n",
    "import numpy as np\n",
    "import matplotlib.pyplot as plt"
   ]
  },
  {
   "cell_type": "markdown",
   "metadata": {},
   "source": [
    "In this document, we help you understand the training data for Part 2 of the project, for you to use for your demand estimation and pricing model. We also describe the test data (for which you have to do give optimal prices)."
   ]
  },
  {
   "cell_type": "markdown",
   "metadata": {},
   "source": [
    "The training data is composed of 30000 customers, inside `train_pricing_decisions`.\n",
    "\n",
    "For every training customer, you have:\n",
    "1. a price they were offered for each item\n",
    "2. their decision for what item they purchased. `-1` means they purchased neither item, `0` means they purchased item 0, `1` means they purchased item 1. \n",
    "3. three user covariates for each user to aid in personalized pricing. "
   ]
  },
  {
   "cell_type": "code",
   "execution_count": 2,
   "metadata": {},
   "outputs": [],
   "source": [
    "train_pricing_decisions = pd.read_csv('train_prices_decisions.csv')\n",
    "test_user_info = pd.read_csv('test_user_info.csv')"
   ]
  },
  {
   "cell_type": "code",
   "execution_count": 3,
   "metadata": {},
   "outputs": [
    {
     "data": {
      "text/html": [
       "<div>\n",
       "<style scoped>\n",
       "    .dataframe tbody tr th:only-of-type {\n",
       "        vertical-align: middle;\n",
       "    }\n",
       "\n",
       "    .dataframe tbody tr th {\n",
       "        vertical-align: top;\n",
       "    }\n",
       "\n",
       "    .dataframe thead th {\n",
       "        text-align: right;\n",
       "    }\n",
       "</style>\n",
       "<table border=\"1\" class=\"dataframe\">\n",
       "  <thead>\n",
       "    <tr style=\"text-align: right;\">\n",
       "      <th></th>\n",
       "      <th>user_index</th>\n",
       "      <th>Covariate1</th>\n",
       "      <th>Covariate2</th>\n",
       "      <th>Covariate3</th>\n",
       "      <th>price_item_0</th>\n",
       "      <th>price_item_1</th>\n",
       "      <th>item_bought</th>\n",
       "    </tr>\n",
       "  </thead>\n",
       "  <tbody>\n",
       "    <tr>\n",
       "      <th>0</th>\n",
       "      <td>0</td>\n",
       "      <td>4.319065</td>\n",
       "      <td>4.917636</td>\n",
       "      <td>6.054873</td>\n",
       "      <td>1.659785</td>\n",
       "      <td>3.598304</td>\n",
       "      <td>0</td>\n",
       "    </tr>\n",
       "    <tr>\n",
       "      <th>1</th>\n",
       "      <td>1</td>\n",
       "      <td>6.375840</td>\n",
       "      <td>7.228608</td>\n",
       "      <td>1.324521</td>\n",
       "      <td>13.120469</td>\n",
       "      <td>2.578281</td>\n",
       "      <td>1</td>\n",
       "    </tr>\n",
       "    <tr>\n",
       "      <th>2</th>\n",
       "      <td>2</td>\n",
       "      <td>1.524010</td>\n",
       "      <td>0.393772</td>\n",
       "      <td>4.873626</td>\n",
       "      <td>27.145855</td>\n",
       "      <td>4.538328</td>\n",
       "      <td>-1</td>\n",
       "    </tr>\n",
       "    <tr>\n",
       "      <th>3</th>\n",
       "      <td>3</td>\n",
       "      <td>1.243759</td>\n",
       "      <td>1.651083</td>\n",
       "      <td>2.268083</td>\n",
       "      <td>5.275166</td>\n",
       "      <td>14.818790</td>\n",
       "      <td>0</td>\n",
       "    </tr>\n",
       "    <tr>\n",
       "      <th>4</th>\n",
       "      <td>4</td>\n",
       "      <td>2.510326</td>\n",
       "      <td>8.265984</td>\n",
       "      <td>4.602699</td>\n",
       "      <td>12.681638</td>\n",
       "      <td>6.809336</td>\n",
       "      <td>0</td>\n",
       "    </tr>\n",
       "  </tbody>\n",
       "</table>\n",
       "</div>"
      ],
      "text/plain": [
       "   user_index  Covariate1  Covariate2  Covariate3  price_item_0  price_item_1  \\\n",
       "0           0    4.319065    4.917636    6.054873      1.659785      3.598304   \n",
       "1           1    6.375840    7.228608    1.324521     13.120469      2.578281   \n",
       "2           2    1.524010    0.393772    4.873626     27.145855      4.538328   \n",
       "3           3    1.243759    1.651083    2.268083      5.275166     14.818790   \n",
       "4           4    2.510326    8.265984    4.602699     12.681638      6.809336   \n",
       "\n",
       "   item_bought  \n",
       "0            0  \n",
       "1            1  \n",
       "2           -1  \n",
       "3            0  \n",
       "4            0  "
      ]
     },
     "execution_count": 3,
     "metadata": {},
     "output_type": "execute_result"
    }
   ],
   "source": [
    "train_pricing_decisions.head()"
   ]
  },
  {
   "cell_type": "code",
   "execution_count": 7,
   "metadata": {},
   "outputs": [
    {
     "data": {
      "image/png": "[encoded data removed]",
      "text/plain": [
       "<Figure size 432x288 with 1 Axes>"
      ]
     },
     "metadata": {
      "needs_background": "light"
     },
     "output_type": "display_data"
    }
   ],
   "source": [
    "train_pricing_decisions.price_item_0.hist()\n",
    "plt.yscale('log')"
   ]
  },
  {
   "cell_type": "markdown",
   "metadata": {},
   "source": [
    "The following plot shows the \"1-dimensional\" choice for item 0: how the percentage of people who bought item 0 changes with the item 0 price."
   ]
  },
  {
   "cell_type": "code",
   "execution_count": 8,
   "metadata": {},
   "outputs": [
    {
     "data": {
      "text/plain": [
       "<AxesSubplot:xlabel='price_item_0'>"
      ]
     },
     "execution_count": 8,
     "metadata": {},
     "output_type": "execute_result"
    },
    {
     "data": {
      "image/png": "[encoded data removed]",
      "text/plain": [
       "<Figure size 432x288 with 1 Axes>"
      ]
     },
     "metadata": {
      "needs_background": "light"
     },
     "output_type": "display_data"
    }
   ],
   "source": [
    "train_pricing_decisions.groupby(pd.qcut(train_pricing_decisions.price_item_0, 10))['item_bought'].agg(lambda x: np.mean([y==0 for y in x])).plot(kind='line')"
   ]
  },
  {
   "cell_type": "markdown",
   "metadata": {},
   "source": [
    "Of course, the price for item 0 also affects the percentage of people who bought item 1:"
   ]
  },
  {
   "cell_type": "code",
   "execution_count": 9,
   "metadata": {},
   "outputs": [
    {
     "data": {
      "text/plain": [
       "<AxesSubplot:xlabel='price_item_0'>"
      ]
     },
     "execution_count": 9,
     "metadata": {},
     "output_type": "execute_result"
    },
    {
     "data": {
      "image/png": "[encoded data removed]",
      "text/plain": [
       "<Figure size 432x288 with 1 Axes>"
      ]
     },
     "metadata": {
      "needs_background": "light"
     },
     "output_type": "display_data"
    }
   ],
   "source": [
    "train_pricing_decisions.groupby(pd.qcut(train_pricing_decisions.price_item_0, 10))['item_bought'].agg(lambda x: np.mean([y==1 for y in x])).plot(kind='line')"
   ]
  },
  {
   "cell_type": "markdown",
   "metadata": {},
   "source": [
    "The test data just has user covariates. Your job is to calculate prices for each item so as to maximize expected revenue from that customer, as you did in Homework 3 (but now with 2 items instead of just 1)"
   ]
  },
  {
   "cell_type": "code",
   "execution_count": 10,
   "metadata": {},
   "outputs": [
    {
     "data": {
      "text/html": [
       "<div>\n",
       "<style scoped>\n",
       "    .dataframe tbody tr th:only-of-type {\n",
       "        vertical-align: middle;\n",
       "    }\n",
       "\n",
       "    .dataframe tbody tr th {\n",
       "        vertical-align: top;\n",
       "    }\n",
       "\n",
       "    .dataframe thead th {\n",
       "        text-align: right;\n",
       "    }\n",
       "</style>\n",
       "<table border=\"1\" class=\"dataframe\">\n",
       "  <thead>\n",
       "    <tr style=\"text-align: right;\">\n",
       "      <th></th>\n",
       "      <th>user_index</th>\n",
       "      <th>Covariate1</th>\n",
       "      <th>Covariate2</th>\n",
       "      <th>Covariate3</th>\n",
       "    </tr>\n",
       "  </thead>\n",
       "  <tbody>\n",
       "    <tr>\n",
       "      <th>0</th>\n",
       "      <td>30000</td>\n",
       "      <td>5.290482</td>\n",
       "      <td>4.597224</td>\n",
       "      <td>2.616371</td>\n",
       "    </tr>\n",
       "    <tr>\n",
       "      <th>1</th>\n",
       "      <td>30001</td>\n",
       "      <td>8.069435</td>\n",
       "      <td>0.308068</td>\n",
       "      <td>2.910754</td>\n",
       "    </tr>\n",
       "    <tr>\n",
       "      <th>2</th>\n",
       "      <td>30002</td>\n",
       "      <td>2.117773</td>\n",
       "      <td>1.527354</td>\n",
       "      <td>1.320430</td>\n",
       "    </tr>\n",
       "    <tr>\n",
       "      <th>3</th>\n",
       "      <td>30003</td>\n",
       "      <td>6.828597</td>\n",
       "      <td>3.455275</td>\n",
       "      <td>0.769989</td>\n",
       "    </tr>\n",
       "    <tr>\n",
       "      <th>4</th>\n",
       "      <td>30004</td>\n",
       "      <td>0.012091</td>\n",
       "      <td>3.873894</td>\n",
       "      <td>1.250743</td>\n",
       "    </tr>\n",
       "  </tbody>\n",
       "</table>\n",
       "</div>"
      ],
      "text/plain": [
       "   user_index  Covariate1  Covariate2  Covariate3\n",
       "0       30000    5.290482    4.597224    2.616371\n",
       "1       30001    8.069435    0.308068    2.910754\n",
       "2       30002    2.117773    1.527354    1.320430\n",
       "3       30003    6.828597    3.455275    0.769989\n",
       "4       30004    0.012091    3.873894    1.250743"
      ]
     },
     "execution_count": 10,
     "metadata": {},
     "output_type": "execute_result"
    }
   ],
   "source": [
    "test_user_info.head()"
   ]
  },
  {
   "cell_type": "markdown",
   "metadata": {},
   "source": [
    "You will be asked to submit a CSV with your calculated optimal prices for each test customer.  The CSV should have four columns: (1) user_index, (2) price_item_0, (3) price_item_1, and (4) expected_revenue. The file should be named `part2_static_prices_submission.csv`"
   ]
  }
 ],
 "metadata": {
  "kernelspec": {
   "display_name": "Python 3.9.12 ('base')",
   "language": "python",
   "name": "python3"
  },
  "language_info": {
   "codemirror_mode": {
    "name": "ipython",
    "version": 3
   },
   "file_extension": ".py",
   "mimetype": "text/x-python",
   "name": "python",
   "nbconvert_exporter": "python",
   "pygments_lexer": "ipython3",
   "version": "3.9.12"
  },
  "vscode": {
   "interpreter": {
    "hash": "86b87beda96b3c653a6f1f85daf818b906cc9f48777f5f800f5c61b34d573ffd"
   }
  }
 },
 "nbformat": 4,
 "nbformat_minor": 4
}
